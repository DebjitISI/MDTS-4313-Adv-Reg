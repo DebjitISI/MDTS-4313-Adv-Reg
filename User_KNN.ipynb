{
 "cells": [
  {
   "cell_type": "code",
   "execution_count": 2,
   "id": "1472753c-10df-49fe-9071-98e071aa48bf",
   "metadata": {},
   "outputs": [],
   "source": [
    "import numpy as np\n",
    "import random"
   ]
  },
  {
   "cell_type": "code",
   "execution_count": 3,
   "id": "ab008454-6fdb-4f4b-98d9-a82adfed466a",
   "metadata": {},
   "outputs": [],
   "source": [
    "#random.seed(475)"
   ]
  },
  {
   "cell_type": "code",
   "execution_count": 4,
   "id": "3e1d4a0a-489c-4591-9d4f-f8d069ec113b",
   "metadata": {},
   "outputs": [],
   "source": [
    "train_x =  np.array([1.0,2.1,2.9,3.4,4.2,5.0,5.7,6.5,7.4,8.0])\n",
    "train_y =  np.array([5.2,7.8,10.1,12.5,14.0,13.8,12.3,10.0,7.2,5.1])\n",
    "test_x = np.array([2,3,4,5,6,7])"
   ]
  },
  {
   "cell_type": "code",
   "execution_count": 28,
   "id": "6e14871d-b3f4-42fe-80d3-a73e2a5a4795",
   "metadata": {},
   "outputs": [],
   "source": [
    "def user_knn(k,train_x,train_y,test_x):\n",
    "    y_hat=[]\n",
    "    for i in range(len(test_x)):\n",
    "        diff = abs(train_x - test_x[i])\n",
    "        sorted_indices = sorted(range(len(diff)), key=lambda i: diff[i])\n",
    "        diff.sort()\n",
    "        #print(diff[:k])\n",
    "        #print(sorted_indices[:k])\n",
    "        ind = sorted_indices[:k]\n",
    "        print(f\"Neighbours of point {test_x[i]}: {train_x[ind]}\")\n",
    "        y_hat.append(np.mean(train_y[ind]))\n",
    "    print(y_hat)"
   ]
  },
  {
   "cell_type": "code",
   "execution_count": 29,
   "id": "1802d5d2-8335-4d27-934d-1896a75c365f",
   "metadata": {},
   "outputs": [
    {
     "name": "stdout",
     "output_type": "stream",
     "text": [
      "Neighbours of point 2: [2.1 2.9 1. ]\n",
      "Neighbours of point 3: [2.9 3.4 2.1]\n",
      "Neighbours of point 4: [4.2 3.4 5. ]\n",
      "Neighbours of point 5: [5.  5.7 4.2]\n",
      "Neighbours of point 6: [5.7 6.5 5. ]\n",
      "Neighbours of point 7: [7.4 6.5 8. ]\n",
      "[np.float64(7.699999999999999), np.float64(10.133333333333335), np.float64(13.433333333333332), np.float64(13.366666666666667), np.float64(12.033333333333333), np.float64(7.433333333333333)]\n"
     ]
    }
   ],
   "source": [
    "user_knn(3,train_x,train_y,test_x)"
   ]
  },
  {
   "cell_type": "code",
   "execution_count": null,
   "id": "6197c1ae-2b09-4490-8a20-edac5bfe78c9",
   "metadata": {},
   "outputs": [],
   "source": []
  },
  {
   "cell_type": "code",
   "execution_count": null,
   "id": "50f5ac23-e8c3-467d-b9cd-0abd41fe1cc4",
   "metadata": {},
   "outputs": [],
   "source": []
  },
  {
   "cell_type": "code",
   "execution_count": null,
   "id": "d07067a8-a88e-4b9a-9d57-9200846c36b4",
   "metadata": {},
   "outputs": [],
   "source": []
  },
  {
   "cell_type": "code",
   "execution_count": null,
   "id": "0f8376a9-162c-46e5-9452-2cf3b0be6b8b",
   "metadata": {},
   "outputs": [],
   "source": []
  },
  {
   "cell_type": "code",
   "execution_count": null,
   "id": "a591c1e1-b4af-4c5b-8dad-8ea407dd3aae",
   "metadata": {},
   "outputs": [],
   "source": []
  },
  {
   "cell_type": "code",
   "execution_count": null,
   "id": "b1aa4010-8e85-4f9a-b602-de8ac2e6c335",
   "metadata": {},
   "outputs": [],
   "source": []
  },
  {
   "cell_type": "code",
   "execution_count": null,
   "id": "dd658f24-85f4-4077-a048-cfd6dce6f0fa",
   "metadata": {},
   "outputs": [],
   "source": []
  },
  {
   "cell_type": "code",
   "execution_count": null,
   "id": "a163a6bf-cfaf-4675-abc0-9fa5a473cbe0",
   "metadata": {},
   "outputs": [],
   "source": []
  },
  {
   "cell_type": "code",
   "execution_count": null,
   "id": "5e40d995-bc18-4ca2-b3e3-a6a90a65b617",
   "metadata": {},
   "outputs": [],
   "source": []
  },
  {
   "cell_type": "code",
   "execution_count": null,
   "id": "d3d4e31b-3897-4149-88d3-50095557cc3d",
   "metadata": {},
   "outputs": [],
   "source": []
  }
 ],
 "metadata": {
  "kernelspec": {
   "display_name": "Python 3 (ipykernel)",
   "language": "python",
   "name": "python3"
  },
  "language_info": {
   "codemirror_mode": {
    "name": "ipython",
    "version": 3
   },
   "file_extension": ".py",
   "mimetype": "text/x-python",
   "name": "python",
   "nbconvert_exporter": "python",
   "pygments_lexer": "ipython3",
   "version": "3.13.5"
  }
 },
 "nbformat": 4,
 "nbformat_minor": 5
}
