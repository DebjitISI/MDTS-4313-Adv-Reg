{
 "cells": [
  {
   "cell_type": "code",
   "execution_count": 1,
   "id": "309c0aff",
   "metadata": {},
   "outputs": [],
   "source": [
    "import numpy as np\n",
    "import pandas as pd\n",
    "import matplotlib.pyplot as plt\n",
    "import seaborn as sns\n",
    "sns.set_style('whitegrid')"
   ]
  },
  {
   "cell_type": "code",
   "execution_count": 2,
   "id": "c6723832",
   "metadata": {},
   "outputs": [],
   "source": [
    "# Define the regression function\n",
    "def reg(x):\n",
    "    return 5 * np.sin(x) + 23 * (np.cos(x))**2"
   ]
  },
  {
   "cell_type": "code",
   "execution_count": 3,
   "id": "13f24b0c",
   "metadata": {},
   "outputs": [],
   "source": [
    "class StepFunction:\n",
    "    def __init__(self, x, y):\n",
    "        \"\"\"\n",
    "        Initialize with breakpoints `x` and values `y`.\n",
    "        `x` should have length k+1 and `y` should have length k.\n",
    "        \"\"\"\n",
    "        if len(y) != len(x) - 1:\n",
    "            raise ValueError(\"Length of y must be one less than length of x\")\n",
    "        self.x = x\n",
    "        self.y = y\n",
    "\n",
    "    def predict(self, z):\n",
    "        # Predict step function value at z (scalar or array).\n",
    "        z = np.asarray(z)\n",
    "        result = np.zeros_like(z, dtype=float)\n",
    "        for i in range(len(self.y)):\n",
    "            result[(z >= self.x[i]) & (z < self.x[i + 1])] = self.y[i]\n",
    "        return result"
   ]
  },
  {
   "cell_type": "code",
   "execution_count": 5,
   "id": "2a785b50",
   "metadata": {},
   "outputs": [],
   "source": [
    "def Bin_smoothing(k, X, Y):\n",
    "    \n",
    "    x_train = np.array(X[:80]); y_train = np.array(Y[:80])\n",
    "    x_test = np.array(X[80:]); y_test = np.array(Y[80:])\n",
    "\n",
    "    # Bin edges\n",
    "    BI = np.linspace(5, 15, k + 1)\n",
    "    Means = []\n",
    "\n",
    "    for j in range(k):\n",
    "        indices = np.where((x_train > BI[j]) & (x_train <= BI[j+1]))[0]\n",
    "        m = np.mean(y_train[indices]) if len(indices) > 0 else 0\n",
    "        Means.append(m)\n",
    "\n",
    "    sf = StepFunction(BI, Means)\n",
    "\n",
    "    # Compute test and train errors\n",
    "    err_Train = np.mean((y_train - sf.predict(x_train))**2)\n",
    "    err_Test = np.mean((y_test - sf.predict(x_test))**2)\n",
    "    \n",
    "    return err_Train, err_Test"
   ]
  },
  {
   "cell_type": "code",
   "execution_count": 7,
   "id": "262329ae",
   "metadata": {},
   "outputs": [
    {
     "name": "stdout",
     "output_type": "stream",
     "text": [
      "[ 87.49321986 101.15910215]\n"
     ]
    },
    {
     "data": {
      "text/html": [
       "<div>\n",
       "<style scoped>\n",
       "    .dataframe tbody tr th:only-of-type {\n",
       "        vertical-align: middle;\n",
       "    }\n",
       "\n",
       "    .dataframe tbody tr th {\n",
       "        vertical-align: top;\n",
       "    }\n",
       "\n",
       "    .dataframe thead th {\n",
       "        text-align: right;\n",
       "    }\n",
       "</style>\n",
       "<table border=\"1\" class=\"dataframe\">\n",
       "  <thead>\n",
       "    <tr style=\"text-align: right;\">\n",
       "      <th></th>\n",
       "      <th>Avg Train error</th>\n",
       "      <th>Avg Test error</th>\n",
       "    </tr>\n",
       "  </thead>\n",
       "  <tbody>\n",
       "    <tr>\n",
       "      <th>0</th>\n",
       "      <td>87.49322</td>\n",
       "      <td>101.159102</td>\n",
       "    </tr>\n",
       "  </tbody>\n",
       "</table>\n",
       "</div>"
      ],
      "text/plain": [
       "   Avg Train error  Avg Test error\n",
       "0         87.49322      101.159102"
      ]
     },
     "execution_count": 7,
     "metadata": {},
     "output_type": "execute_result"
    }
   ],
   "source": [
    "np.random.seed(42)\n",
    "k = 5\n",
    "Res = []\n",
    "R = 50\n",
    "\n",
    "for r in range(R):\n",
    "    X = np.random.uniform(5, 15, 100)\n",
    "    Y = reg(X) + np.random.normal(0, 5, 100)\n",
    "\n",
    "    a,b = Bin_smoothing(k=k, X=X, Y=Y)\n",
    "    Res.append([a,b])\n",
    "    \n",
    "print(np.mean(Res, axis=0))\n",
    "pd.DataFrame([np.mean(Res, axis=0)], columns=['Avg Train error', 'Avg Test error'])"
   ]
  },
  {
   "cell_type": "markdown",
   "id": "32c99439",
   "metadata": {},
   "source": [
    "### Repeat the procedure $50$ times and report the avg MSE for various $k$, for Train and test data"
   ]
  },
  {
   "cell_type": "code",
   "execution_count": null,
   "id": "efda6d22",
   "metadata": {},
   "outputs": [
    {
     "data": {
      "text/html": [
       "<div>\n",
       "<style scoped>\n",
       "    .dataframe tbody tr th:only-of-type {\n",
       "        vertical-align: middle;\n",
       "    }\n",
       "\n",
       "    .dataframe tbody tr th {\n",
       "        vertical-align: top;\n",
       "    }\n",
       "\n",
       "    .dataframe thead th {\n",
       "        text-align: right;\n",
       "    }\n",
       "</style>\n",
       "<table border=\"1\" class=\"dataframe\">\n",
       "  <thead>\n",
       "    <tr style=\"text-align: right;\">\n",
       "      <th></th>\n",
       "      <th>k</th>\n",
       "      <th>Avg Train error</th>\n",
       "      <th>Avg Test error</th>\n",
       "    </tr>\n",
       "  </thead>\n",
       "  <tbody>\n",
       "    <tr>\n",
       "      <th>0</th>\n",
       "      <td>5</td>\n",
       "      <td>84.211889</td>\n",
       "      <td>100.743595</td>\n",
       "    </tr>\n",
       "    <tr>\n",
       "      <th>1</th>\n",
       "      <td>10</td>\n",
       "      <td>39.246268</td>\n",
       "      <td>52.180129</td>\n",
       "    </tr>\n",
       "    <tr>\n",
       "      <th>2</th>\n",
       "      <td>15</td>\n",
       "      <td>28.405308</td>\n",
       "      <td>44.949910</td>\n",
       "    </tr>\n",
       "    <tr>\n",
       "      <th>3</th>\n",
       "      <td>20</td>\n",
       "      <td>22.926342</td>\n",
       "      <td>43.928269</td>\n",
       "    </tr>\n",
       "    <tr>\n",
       "      <th>4</th>\n",
       "      <td>25</td>\n",
       "      <td>20.483240</td>\n",
       "      <td>46.515641</td>\n",
       "    </tr>\n",
       "    <tr>\n",
       "      <th>5</th>\n",
       "      <td>30</td>\n",
       "      <td>17.997088</td>\n",
       "      <td>56.330722</td>\n",
       "    </tr>\n",
       "    <tr>\n",
       "      <th>6</th>\n",
       "      <td>35</td>\n",
       "      <td>16.055503</td>\n",
       "      <td>61.769775</td>\n",
       "    </tr>\n",
       "    <tr>\n",
       "      <th>7</th>\n",
       "      <td>40</td>\n",
       "      <td>14.945532</td>\n",
       "      <td>64.972646</td>\n",
       "    </tr>\n",
       "    <tr>\n",
       "      <th>8</th>\n",
       "      <td>45</td>\n",
       "      <td>13.892982</td>\n",
       "      <td>79.562359</td>\n",
       "    </tr>\n",
       "    <tr>\n",
       "      <th>9</th>\n",
       "      <td>50</td>\n",
       "      <td>12.976618</td>\n",
       "      <td>79.827617</td>\n",
       "    </tr>\n",
       "  </tbody>\n",
       "</table>\n",
       "</div>"
      ],
      "text/plain": [
       "    k  Avg Train error  Avg Test error\n",
       "0   5        84.211889      100.743595\n",
       "1  10        39.246268       52.180129\n",
       "2  15        28.405308       44.949910\n",
       "3  20        22.926342       43.928269\n",
       "4  25        20.483240       46.515641\n",
       "5  30        17.997088       56.330722\n",
       "6  35        16.055503       61.769775\n",
       "7  40        14.945532       64.972646\n",
       "8  45        13.892982       79.562359\n",
       "9  50        12.976618       79.827617"
      ]
     },
     "execution_count": 8,
     "metadata": {},
     "output_type": "execute_result"
    }
   ],
   "source": [
    "# For several values of k we will compute avg training and test error\n",
    "K = [5,10,15,20,25,30,35,40,45,50]\n",
    "Res = []\n",
    "R = 50 # Repeat the procedure 50 times\n",
    "\n",
    "for r in range(R):\n",
    "    np.random.seed(r)\n",
    "    # Simulating different data sets over different replication\n",
    "    X = np.random.uniform(5, 15, 100)\n",
    "    Y = reg(X) + np.random.normal(0, 5, 100)\n",
    "    \n",
    "    errs = []\n",
    "    # compute the errors for different number of bins\n",
    "    for k in K:\n",
    "        a,b = Bin_smoothing(k=k, X=X, Y=Y)\n",
    "        errs.append([a,b])\n",
    "\n",
    "    Res.append(errs)\n",
    "# making a data frame of the results    \n",
    "Res_df = pd.DataFrame(np.mean(Res, axis=0), columns=['Avg Train error', 'Avg Test error'])\n",
    "Res_df.insert(loc=0, column='k', value=K)\n",
    "Res_df"
   ]
  },
  {
   "cell_type": "code",
   "execution_count": 24,
   "id": "7f6a2b1a",
   "metadata": {},
   "outputs": [
    {
     "data": {
      "text/plain": [
       "<matplotlib.legend.Legend at 0x233a9f0f390>"
      ]
     },
     "execution_count": 24,
     "metadata": {},
     "output_type": "execute_result"
    },
    {
     "data": {
      "image/png": "[encoded data removed]",
      "text/plain": [
       "<Figure size 640x480 with 1 Axes>"
      ]
     },
     "metadata": {},
     "output_type": "display_data"
    }
   ],
   "source": [
    "plt.plot(Res_df['k'], Res_df['Avg Train error'],label='Avg Train error')\n",
    "plt.plot(Res_df['k'], Res_df['Avg Test error'],label='Avg Test error')\n",
    "plt.xlabel('k, number of bins', fontsize=20); plt.ylabel('Error', fontsize = 20)\n",
    "plt.title('Plot of Average Train error vs Average Test error')\n",
    "plt.legend()"
   ]
  },
  {
   "cell_type": "code",
   "execution_count": null,
   "id": "cba086a1",
   "metadata": {},
   "outputs": [],
   "source": []
  },
  {
   "cell_type": "code",
   "execution_count": null,
   "id": "2105c28e",
   "metadata": {},
   "outputs": [],
   "source": []
  },
  {
   "cell_type": "code",
   "execution_count": null,
   "id": "143e37b5",
   "metadata": {},
   "outputs": [],
   "source": []
  }
 ],
 "metadata": {
  "kernelspec": {
   "display_name": "Python 3 (ipykernel)",
   "language": "python",
   "name": "python3"
  },
  "language_info": {
   "codemirror_mode": {
    "name": "ipython",
    "version": 3
   },
   "file_extension": ".py",
   "mimetype": "text/x-python",
   "name": "python",
   "nbconvert_exporter": "python",
   "pygments_lexer": "ipython3",
   "version": "3.13.5"
  }
 },
 "nbformat": 4,
 "nbformat_minor": 5
}
