{
 "cells": [
  {
   "cell_type": "code",
   "execution_count": 70,
   "id": "d3b20044-8108-4945-afd4-048e9ce69ba8",
   "metadata": {},
   "outputs": [],
   "source": [
    "import numpy as np\n",
    "from sklearn.linear_model import LinearRegression"
   ]
  },
  {
   "cell_type": "code",
   "execution_count": 98,
   "id": "de3fe374-2c7b-4847-ad54-10692d3c125e",
   "metadata": {},
   "outputs": [],
   "source": [
    "def gauss_kernel(x):\n",
    "    x = np.array(x)           \n",
    "    x = x[:, 0]\n",
    "    w = np.exp(-0.5 * x**2) /(2 * np.pi)\n",
    "    return w"
   ]
  },
  {
   "cell_type": "code",
   "execution_count": 99,
   "id": "94736670-e93f-4e7a-8206-a64eee195669",
   "metadata": {},
   "outputs": [],
   "source": [
    "X = np.array([1.0,2.1,2.9,3.4,4.2,5.0,5.7,6.5,7.4,8.0])\n",
    "X_new = []\n",
    "for a,b in zip(X,X**2):\n",
    "    X_new.append([a,b])\n",
    "y = np.array([5.2,7.8,10.1,12.5,14.0,13.8,12.3,10.0,7.2,5.1])"
   ]
  },
  {
   "cell_type": "code",
   "execution_count": 100,
   "id": "45653440-34bd-47fc-af9d-abe5e4d460b5",
   "metadata": {},
   "outputs": [
    {
     "data": {
      "text/plain": [
       "[(np.float64(1.0), np.float64(1.0)),\n",
       " (np.float64(2.1), np.float64(4.41)),\n",
       " (np.float64(2.9), np.float64(8.41)),\n",
       " (np.float64(3.4), np.float64(11.559999999999999)),\n",
       " (np.float64(4.2), np.float64(17.64)),\n",
       " (np.float64(5.0), np.float64(25.0)),\n",
       " (np.float64(5.7), np.float64(32.49)),\n",
       " (np.float64(6.5), np.float64(42.25)),\n",
       " (np.float64(7.4), np.float64(54.760000000000005)),\n",
       " (np.float64(8.0), np.float64(64.0))]"
      ]
     },
     "execution_count": 100,
     "metadata": {},
     "output_type": "execute_result"
    }
   ],
   "source": [
    "list(zip(X,X**2))"
   ]
  },
  {
   "cell_type": "code",
   "execution_count": 101,
   "id": "0faeba62-20d8-4a65-b77f-becf69fa4411",
   "metadata": {},
   "outputs": [
    {
     "data": {
      "text/plain": [
       "(10,)"
      ]
     },
     "execution_count": 101,
     "metadata": {},
     "output_type": "execute_result"
    }
   ],
   "source": [
    "gauss_kernel(X_new).shape"
   ]
  },
  {
   "cell_type": "code",
   "execution_count": 102,
   "id": "eba6c999-8f1b-4a64-843d-3fee2f3838b6",
   "metadata": {},
   "outputs": [
    {
     "data": {
      "text/plain": [
       "array([1. , 2.1, 2.9, 3.4, 4.2, 5. , 5.7, 6.5, 7.4, 8. ])"
      ]
     },
     "execution_count": 102,
     "metadata": {},
     "output_type": "execute_result"
    }
   ],
   "source": [
    "X_new = np.array(X_new)\n",
    "X_new.shape\n",
    "X_new[:,0]"
   ]
  },
  {
   "cell_type": "code",
   "execution_count": 103,
   "id": "8cd84d95-bb10-4021-9d5b-6a3a5e98657d",
   "metadata": {},
   "outputs": [
    {
     "data": {
      "text/plain": [
       "-19.835894845012366"
      ]
     },
     "execution_count": 103,
     "metadata": {},
     "output_type": "execute_result"
    }
   ],
   "source": [
    "\n",
    "reg = LinearRegression().fit(X_new, y,sample_weight = gauss_kernel(X_new))\n",
    "reg.score(X_new, y)"
   ]
  },
  {
   "cell_type": "code",
   "execution_count": null,
   "id": "433e9f95-ee48-42ee-8fff-c022c3447f22",
   "metadata": {},
   "outputs": [],
   "source": []
  },
  {
   "cell_type": "code",
   "execution_count": null,
   "id": "ef48474a-8375-441f-83dc-093c019ab83a",
   "metadata": {},
   "outputs": [],
   "source": []
  },
  {
   "cell_type": "code",
   "execution_count": 104,
   "id": "acd6996e-3609-473c-92e0-8c193522bf0d",
   "metadata": {},
   "outputs": [],
   "source": [
    "import numpy as np\n",
    "from sklearn.linear_model import LinearRegression\n",
    "X = np.array([[1, 1], [1, 2], [2, 2], [2, 3]])\n",
    "# y = 1 * x_0 + 2 * x_1 + 3\n",
    "y = np.dot(X, np.array([1, 2])) + 3"
   ]
  },
  {
   "cell_type": "code",
   "execution_count": 105,
   "id": "d9c9ba87-bb18-4f53-9472-2f2704df06c3",
   "metadata": {},
   "outputs": [
    {
     "data": {
      "text/plain": [
       "(4,)"
      ]
     },
     "execution_count": 105,
     "metadata": {},
     "output_type": "execute_result"
    }
   ],
   "source": [
    "y.shape"
   ]
  },
  {
   "cell_type": "code",
   "execution_count": 77,
   "id": "28cbb911-d8bb-49e2-8b4e-be78d1cc3371",
   "metadata": {},
   "outputs": [
    {
     "data": {
      "text/plain": [
       "(4, 2)"
      ]
     },
     "execution_count": 77,
     "metadata": {},
     "output_type": "execute_result"
    }
   ],
   "source": [
    "X.shape"
   ]
  },
  {
   "cell_type": "code",
   "execution_count": 78,
   "id": "7c4da794-f7e8-48d9-82dc-93c6e3ffb7b6",
   "metadata": {},
   "outputs": [
    {
     "data": {
      "text/plain": [
       "[[np.float64(1.0), np.float64(1.0)],\n",
       " [np.float64(2.1), np.float64(4.41)],\n",
       " [np.float64(2.9), np.float64(8.41)],\n",
       " [np.float64(3.4), np.float64(11.559999999999999)],\n",
       " [np.float64(4.2), np.float64(17.64)],\n",
       " [np.float64(5.0), np.float64(25.0)],\n",
       " [np.float64(5.7), np.float64(32.49)],\n",
       " [np.float64(6.5), np.float64(42.25)],\n",
       " [np.float64(7.4), np.float64(54.760000000000005)],\n",
       " [np.float64(8.0), np.float64(64.0)]]"
      ]
     },
     "execution_count": 78,
     "metadata": {},
     "output_type": "execute_result"
    }
   ],
   "source": [
    "X_new"
   ]
  },
  {
   "cell_type": "code",
   "execution_count": null,
   "id": "1f501037-ecc3-408d-955f-d23c3b9066ce",
   "metadata": {},
   "outputs": [],
   "source": []
  },
  {
   "cell_type": "code",
   "execution_count": null,
   "id": "d07e571e-c1ce-4fc1-ba04-e3d085570ebf",
   "metadata": {},
   "outputs": [],
   "source": []
  },
  {
   "cell_type": "code",
   "execution_count": null,
   "id": "7af55e45-e70f-4ff2-865f-b3d7bae7f73f",
   "metadata": {},
   "outputs": [],
   "source": []
  }
 ],
 "metadata": {
  "kernelspec": {
   "display_name": "Python 3 (ipykernel)",
   "language": "python",
   "name": "python3"
  },
  "language_info": {
   "codemirror_mode": {
    "name": "ipython",
    "version": 3
   },
   "file_extension": ".py",
   "mimetype": "text/x-python",
   "name": "python",
   "nbconvert_exporter": "python",
   "pygments_lexer": "ipython3",
   "version": "3.13.5"
  },
  "widgets": {
   "application/vnd.jupyter.widget-state+json": {
    "state": {},
    "version_major": 2,
    "version_minor": 0
   }
  }
 },
 "nbformat": 4,
 "nbformat_minor": 5
}
